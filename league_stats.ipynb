{
 "cells": [
  {
   "cell_type": "code",
   "execution_count": 47,
   "metadata": {},
   "outputs": [],
   "source": [
    "import os\n",
    "import sys\n",
    "import numpy as np\n",
    "import pandas as pd\n",
    "import matplotlib.pyplot as plt\n",
    "from matplotlib.pyplot import figure\n",
    "import seaborn as sns\n",
    "\n",
    "%matplotlib inline"
   ]
  },
  {
   "cell_type": "code",
   "execution_count": 142,
   "metadata": {},
   "outputs": [],
   "source": [
    "# # # Given\n",
    "start_season_year = 1992\n",
    "end_season_year = 2018\n",
    "total_seasons = 26   # # (1992-2018)\n",
    "total_teams = 20\n",
    "column_headers = ['Teams', 'M', 'W', 'D', 'L', 'Goals', 'Diff', 'Pts']"
   ]
  },
  {
   "cell_type": "code",
   "execution_count": 3,
   "metadata": {},
   "outputs": [],
   "source": [
    "data_dictionary = {}\n",
    "for i in range(total_seasons):\n",
    "    season_date = i + start_season_year\n",
    "    data_dictionary[season_date] = pd.read_csv('../data/https___www.worldfootball.net_ ({0}).csv'.format(i), header=None, index_col=0)\n",
    "    \n",
    "    individual_dataframe = data_dictionary[season_date]\n",
    "    \n",
    "    # # Remove unknown columns\n",
    "    del individual_dataframe[9]\n",
    "    del individual_dataframe[10]\n",
    "    \n",
    "    # # Remove unknown index\n",
    "    individual_dataframe.drop(individual_dataframe.index[:2], inplace=True)\n",
    "    \n",
    "    # # Good Columns Names\n",
    "    individual_dataframe.columns = column_headers\n",
    "    \n",
    "    individual_dataframe = individual_dataframe.rename_axis(None, inplace=True)"
   ]
  },
  {
   "cell_type": "code",
   "execution_count": 109,
   "metadata": {},
   "outputs": [
    {
     "data": {
      "text/html": [
       "<div>\n",
       "<style scoped>\n",
       "    .dataframe tbody tr th:only-of-type {\n",
       "        vertical-align: middle;\n",
       "    }\n",
       "\n",
       "    .dataframe tbody tr th {\n",
       "        vertical-align: top;\n",
       "    }\n",
       "\n",
       "    .dataframe thead th {\n",
       "        text-align: right;\n",
       "    }\n",
       "</style>\n",
       "<table border=\"1\" class=\"dataframe\">\n",
       "  <thead>\n",
       "    <tr style=\"text-align: right;\">\n",
       "      <th></th>\n",
       "      <th>Teams</th>\n",
       "      <th>M</th>\n",
       "      <th>W</th>\n",
       "      <th>D</th>\n",
       "      <th>L</th>\n",
       "      <th>Goals</th>\n",
       "      <th>Diff</th>\n",
       "      <th>Pts</th>\n",
       "    </tr>\n",
       "  </thead>\n",
       "  <tbody>\n",
       "    <tr>\n",
       "      <th>1</th>\n",
       "      <td>Chelsea FC</td>\n",
       "      <td>38</td>\n",
       "      <td>29</td>\n",
       "      <td>4</td>\n",
       "      <td>5</td>\n",
       "      <td>72:22</td>\n",
       "      <td>50</td>\n",
       "      <td>91</td>\n",
       "    </tr>\n",
       "    <tr>\n",
       "      <th>2</th>\n",
       "      <td>Manchester United</td>\n",
       "      <td>38</td>\n",
       "      <td>25</td>\n",
       "      <td>8</td>\n",
       "      <td>5</td>\n",
       "      <td>72:34</td>\n",
       "      <td>38</td>\n",
       "      <td>83</td>\n",
       "    </tr>\n",
       "    <tr>\n",
       "      <th>3</th>\n",
       "      <td>Liverpool FC</td>\n",
       "      <td>38</td>\n",
       "      <td>25</td>\n",
       "      <td>7</td>\n",
       "      <td>6</td>\n",
       "      <td>57:25</td>\n",
       "      <td>32</td>\n",
       "      <td>82</td>\n",
       "    </tr>\n",
       "    <tr>\n",
       "      <th>4</th>\n",
       "      <td>Arsenal FC</td>\n",
       "      <td>38</td>\n",
       "      <td>20</td>\n",
       "      <td>7</td>\n",
       "      <td>11</td>\n",
       "      <td>68:31</td>\n",
       "      <td>37</td>\n",
       "      <td>67</td>\n",
       "    </tr>\n",
       "    <tr>\n",
       "      <th>5</th>\n",
       "      <td>Tottenham Hotspur</td>\n",
       "      <td>38</td>\n",
       "      <td>18</td>\n",
       "      <td>11</td>\n",
       "      <td>9</td>\n",
       "      <td>53:38</td>\n",
       "      <td>15</td>\n",
       "      <td>65</td>\n",
       "    </tr>\n",
       "    <tr>\n",
       "      <th>6</th>\n",
       "      <td>Blackburn Rovers</td>\n",
       "      <td>38</td>\n",
       "      <td>19</td>\n",
       "      <td>6</td>\n",
       "      <td>13</td>\n",
       "      <td>51:42</td>\n",
       "      <td>9</td>\n",
       "      <td>63</td>\n",
       "    </tr>\n",
       "    <tr>\n",
       "      <th>7</th>\n",
       "      <td>Newcastle United</td>\n",
       "      <td>38</td>\n",
       "      <td>17</td>\n",
       "      <td>7</td>\n",
       "      <td>14</td>\n",
       "      <td>47:42</td>\n",
       "      <td>5</td>\n",
       "      <td>58</td>\n",
       "    </tr>\n",
       "    <tr>\n",
       "      <th>8</th>\n",
       "      <td>Bolton Wanderers</td>\n",
       "      <td>38</td>\n",
       "      <td>15</td>\n",
       "      <td>11</td>\n",
       "      <td>12</td>\n",
       "      <td>49:41</td>\n",
       "      <td>8</td>\n",
       "      <td>56</td>\n",
       "    </tr>\n",
       "    <tr>\n",
       "      <th>9</th>\n",
       "      <td>West Ham United</td>\n",
       "      <td>38</td>\n",
       "      <td>16</td>\n",
       "      <td>7</td>\n",
       "      <td>15</td>\n",
       "      <td>52:55</td>\n",
       "      <td>-3</td>\n",
       "      <td>55</td>\n",
       "    </tr>\n",
       "    <tr>\n",
       "      <th>10</th>\n",
       "      <td>Wigan Athletic</td>\n",
       "      <td>38</td>\n",
       "      <td>15</td>\n",
       "      <td>6</td>\n",
       "      <td>17</td>\n",
       "      <td>45:52</td>\n",
       "      <td>-7</td>\n",
       "      <td>51</td>\n",
       "    </tr>\n",
       "    <tr>\n",
       "      <th>11</th>\n",
       "      <td>Everton FC</td>\n",
       "      <td>38</td>\n",
       "      <td>14</td>\n",
       "      <td>8</td>\n",
       "      <td>16</td>\n",
       "      <td>34:49</td>\n",
       "      <td>-15</td>\n",
       "      <td>50</td>\n",
       "    </tr>\n",
       "    <tr>\n",
       "      <th>12</th>\n",
       "      <td>Fulham FC</td>\n",
       "      <td>38</td>\n",
       "      <td>14</td>\n",
       "      <td>6</td>\n",
       "      <td>18</td>\n",
       "      <td>48:58</td>\n",
       "      <td>-10</td>\n",
       "      <td>48</td>\n",
       "    </tr>\n",
       "    <tr>\n",
       "      <th>13</th>\n",
       "      <td>Charlton Athletic</td>\n",
       "      <td>38</td>\n",
       "      <td>13</td>\n",
       "      <td>8</td>\n",
       "      <td>17</td>\n",
       "      <td>41:55</td>\n",
       "      <td>-14</td>\n",
       "      <td>47</td>\n",
       "    </tr>\n",
       "    <tr>\n",
       "      <th>14</th>\n",
       "      <td>Middlesbrough FC</td>\n",
       "      <td>38</td>\n",
       "      <td>12</td>\n",
       "      <td>9</td>\n",
       "      <td>17</td>\n",
       "      <td>48:58</td>\n",
       "      <td>-10</td>\n",
       "      <td>45</td>\n",
       "    </tr>\n",
       "    <tr>\n",
       "      <th>15</th>\n",
       "      <td>Manchester City</td>\n",
       "      <td>38</td>\n",
       "      <td>13</td>\n",
       "      <td>4</td>\n",
       "      <td>21</td>\n",
       "      <td>43:48</td>\n",
       "      <td>-5</td>\n",
       "      <td>43</td>\n",
       "    </tr>\n",
       "    <tr>\n",
       "      <th>16</th>\n",
       "      <td>Aston Villa</td>\n",
       "      <td>38</td>\n",
       "      <td>10</td>\n",
       "      <td>12</td>\n",
       "      <td>16</td>\n",
       "      <td>42:55</td>\n",
       "      <td>-13</td>\n",
       "      <td>42</td>\n",
       "    </tr>\n",
       "    <tr>\n",
       "      <th>17</th>\n",
       "      <td>Portsmouth FC</td>\n",
       "      <td>38</td>\n",
       "      <td>10</td>\n",
       "      <td>8</td>\n",
       "      <td>20</td>\n",
       "      <td>37:62</td>\n",
       "      <td>-25</td>\n",
       "      <td>38</td>\n",
       "    </tr>\n",
       "    <tr>\n",
       "      <th>18</th>\n",
       "      <td>Birmingham City</td>\n",
       "      <td>38</td>\n",
       "      <td>8</td>\n",
       "      <td>10</td>\n",
       "      <td>20</td>\n",
       "      <td>28:50</td>\n",
       "      <td>-22</td>\n",
       "      <td>34</td>\n",
       "    </tr>\n",
       "    <tr>\n",
       "      <th>19</th>\n",
       "      <td>West Bromwich Albion</td>\n",
       "      <td>38</td>\n",
       "      <td>7</td>\n",
       "      <td>9</td>\n",
       "      <td>22</td>\n",
       "      <td>31:58</td>\n",
       "      <td>-27</td>\n",
       "      <td>30</td>\n",
       "    </tr>\n",
       "    <tr>\n",
       "      <th>20</th>\n",
       "      <td>Sunderland AFC</td>\n",
       "      <td>38</td>\n",
       "      <td>3</td>\n",
       "      <td>6</td>\n",
       "      <td>29</td>\n",
       "      <td>26:69</td>\n",
       "      <td>-43</td>\n",
       "      <td>15</td>\n",
       "    </tr>\n",
       "  </tbody>\n",
       "</table>\n",
       "</div>"
      ],
      "text/plain": [
       "                   Teams   M   W   D   L  Goals Diff Pts\n",
       "1             Chelsea FC  38  29   4   5  72:22   50  91\n",
       "2      Manchester United  38  25   8   5  72:34   38  83\n",
       "3           Liverpool FC  38  25   7   6  57:25   32  82\n",
       "4             Arsenal FC  38  20   7  11  68:31   37  67\n",
       "5      Tottenham Hotspur  38  18  11   9  53:38   15  65\n",
       "6       Blackburn Rovers  38  19   6  13  51:42    9  63\n",
       "7       Newcastle United  38  17   7  14  47:42    5  58\n",
       "8       Bolton Wanderers  38  15  11  12  49:41    8  56\n",
       "9        West Ham United  38  16   7  15  52:55   -3  55\n",
       "10        Wigan Athletic  38  15   6  17  45:52   -7  51\n",
       "11            Everton FC  38  14   8  16  34:49  -15  50\n",
       "12             Fulham FC  38  14   6  18  48:58  -10  48\n",
       "13     Charlton Athletic  38  13   8  17  41:55  -14  47\n",
       "14      Middlesbrough FC  38  12   9  17  48:58  -10  45\n",
       "15       Manchester City  38  13   4  21  43:48   -5  43\n",
       "16           Aston Villa  38  10  12  16  42:55  -13  42\n",
       "17         Portsmouth FC  38  10   8  20  37:62  -25  38\n",
       "18       Birmingham City  38   8  10  20  28:50  -22  34\n",
       "19  West Bromwich Albion  38   7   9  22  31:58  -27  30\n",
       "20        Sunderland AFC  38   3   6  29  26:69  -43  15"
      ]
     },
     "execution_count": 109,
     "metadata": {},
     "output_type": "execute_result"
    }
   ],
   "source": [
    "data_dictionary[2005]"
   ]
  },
  {
   "cell_type": "code",
   "execution_count": 63,
   "metadata": {},
   "outputs": [
    {
     "data": {
      "text/plain": [
       "'90'"
      ]
     },
     "execution_count": 63,
     "metadata": {},
     "output_type": "execute_result"
    }
   ],
   "source": [
    "data_dictionary[2003].loc['1'][7]"
   ]
  },
  {
   "cell_type": "markdown",
   "metadata": {},
   "source": [
    "### <center> Search for the most successful club in England <center/>"
   ]
  },
  {
   "cell_type": "code",
   "execution_count": 35,
   "metadata": {},
   "outputs": [],
   "source": [
    "# # # Creating a Winner's dictionary with clubs and their respective title winning years\n",
    "winners_dict = {}\n",
    "winners_hist = {}\n",
    "for i in range(total_seasons):\n",
    "    season_date = i + start_season_year\n",
    "    winner_club = data_dictionary[season_date].loc['1'][0]\n",
    "    winners_dict[season_date] = winner_club\n",
    "    \n",
    "    # # For Winners Histogram\n",
    "    if winner_club in winners_hist:\n",
    "        winners_hist[winner_club] += 1\n",
    "    else:\n",
    "        winners_hist[winner_club] = 1"
   ]
  },
  {
   "cell_type": "code",
   "execution_count": 36,
   "metadata": {},
   "outputs": [
    {
     "data": {
      "text/plain": [
       "{'Manchester United': 13,\n",
       " 'Blackburn Rovers': 1,\n",
       " 'Arsenal FC': 3,\n",
       " 'Chelsea FC': 5,\n",
       " 'Manchester City': 3,\n",
       " 'Leicester City': 1}"
      ]
     },
     "execution_count": 36,
     "metadata": {},
     "output_type": "execute_result"
    }
   ],
   "source": [
    "winners_hist"
   ]
  },
  {
   "cell_type": "code",
   "execution_count": 108,
   "metadata": {},
   "outputs": [
    {
     "data": {
      "text/plain": [
       "<BarContainer object of 6 artists>"
      ]
     },
     "execution_count": 108,
     "metadata": {},
     "output_type": "execute_result"
    },
    {
     "data": {
      "image/png": "[encoded data removed]",
      "text/plain": [
       "<Figure size 1280x480 with 1 Axes>"
      ]
     },
     "metadata": {},
     "output_type": "display_data"
    }
   ],
   "source": [
    "width = 0.5\n",
    "figure(num=None, figsize=(16, 6), dpi=80, facecolor='w', edgecolor='k')\n",
    "plt.bar(winners_hist.keys(), winners_hist.values(), width, color='blue')"
   ]
  },
  {
   "cell_type": "markdown",
   "metadata": {},
   "source": [
    "<center>This figure shows that the most successful club in the modern era of premier league is Manchester United</center>"
   ]
  },
  {
   "cell_type": "markdown",
   "metadata": {},
   "source": [
    "### <center> Search for the most entertaining season</center>"
   ]
  },
  {
   "cell_type": "markdown",
   "metadata": {},
   "source": [
    "##### <center>Entertaining cannot be defined easily. I'll try to calculate the entertaining season by the difference in points between the first place team and the last place team</center>"
   ]
  },
  {
   "cell_type": "code",
   "execution_count": 141,
   "metadata": {},
   "outputs": [
    {
     "name": "stdout",
     "output_type": "stream",
     "text": [
      "1032\n",
      "['3', '3']\n"
     ]
    }
   ],
   "source": [
    "data_dictionary[2003].loc['1'][7]\n",
    "a_sum = 0\n",
    "b_sum = 0\n",
    "\n",
    "    \n",
    "b_sum = [i for i in data_dictionary[2003].loc[str(i+1)][7]]\n",
    "print(b_sum)"
   ]
  },
  {
   "cell_type": "code",
   "execution_count": 172,
   "metadata": {},
   "outputs": [
    {
     "name": "stdout",
     "output_type": "stream",
     "text": [
      "{1992: (84, 49), 1993: (92, 42), 1994: (89, 43), 1995: (82, 29), 1996: (75, 34), 1997: (78, 33), 1998: (79, 30), 1999: (91, 24), 2000: (80, 26), 2001: (87, 28), 2002: (83, 19), 2003: (90, 33), 2004: (95, 32), 2005: (91, 15), 2006: (89, 28), 2007: (87, 11), 2008: (90, 32), 2009: (86, 19), 2010: (80, 33), 2011: (89, 25), 2012: (89, 25), 2013: (86, 30), 2014: (87, 30), 2015: (81, 17), 2016: (93, 24), 2017: (100, 31)}\n",
      "[35, 50, 46, 53, 41, 45, 49, 67, 54, 59, 64, 57, 63, 76, 61, 76, 58, 67, 47, 64, 64, 56, 57, 64, 69, 69]\n",
      "13\n",
      "0\n"
     ]
    }
   ],
   "source": [
    "# # Getting the difference in points season\n",
    "difference_hist = {}\n",
    "difference_points = []\n",
    "# mean_points = []\n",
    "for i in range(total_seasons):\n",
    "    season_date = i + start_season_year\n",
    "    \n",
    "#     points = []\n",
    "#     for j in range(total_teams):\n",
    "#         points.append(int(data_dictionary[season_date].loc[str(j+1)][7]))\n",
    "#     difference_hist[season_date]  = points\n",
    "        \n",
    "# print(difference_hist)\n",
    "    \n",
    "    \n",
    "    \n",
    "    \n",
    "    winner_point = data_dictionary[season_date].loc['1'][7]\n",
    "    loser_point = data_dictionary[season_date].loc['20'][7]\n",
    "    total_points = 0\n",
    "#     for j in range(total_teams):\n",
    "#         total_points += int(data_dictionary[season_date].loc[str(j+1)][7])\n",
    "#     mean_points.append(total_points / total_teams)\n",
    "    difference_points.append(int(winner_point) - int(loser_point))\n",
    "    # # difference_hist[season_date] = (winner_point, loser_point, differene_point)\n",
    "    difference_hist[season_date] = (int(winner_point), int(loser_point))\n",
    "print(difference_hist)\n",
    "# print(mean_points)\n",
    "print(difference_points)\n",
    "print(np.argmax(np.array(difference_points)))\n",
    "print(np.argmin(np.array(difference_points)))"
   ]
  },
  {
   "cell_type": "code",
   "execution_count": 171,
   "metadata": {},
   "outputs": [
    {
     "name": "stdout",
     "output_type": "stream",
     "text": [
      "[1992, 1993, 1994, 1995, 1996, 1997, 1998, 1999, 2000, 2001, 2002, 2003, 2004, 2005, 2006, 2007, 2008, 2009, 2010, 2011, 2012, 2013, 2014, 2015, 2016, 2017]\n"
     ]
    },
    {
     "data": {
      "image/png": "[encoded data removed]",
      "text/plain": [
       "<Figure size 1200x480 with 1 Axes>"
      ]
     },
     "metadata": {},
     "output_type": "display_data"
    }
   ],
   "source": [
    "# plt.boxplot(data=difference_hist, x = difference_hist.values())\n",
    "#plt.boxplot(x=[(1,2,3), (4,5,6)], data=[1,2])\n",
    "figure(num=None, figsize=(15, 6), dpi=80, facecolor='w', edgecolor='k')\n",
    "x = list(difference_hist.values())\n",
    "#means = [np.mean(tup) for tup in x]\n",
    "# means=mean_points\n",
    "data = list(difference_hist.keys())\n",
    "print(data)\n",
    "plt.boxplot(x=x, data=data, labels=data, showmeans=True)\n",
    "plt.show()"
   ]
  },
  {
   "cell_type": "markdown",
   "metadata": {},
   "source": [
    "<center>This figure shows the box plots of the points obtained in the premier league</center>"
   ]
  },
  {
   "cell_type": "markdown",
   "metadata": {},
   "source": [
    "##### From this box plot we can find that\n",
    "- 2007 has the least number of points obtained from a certain club\n",
    "- 2017 has the highest number of points obtained from a certain club\n",
    "- 1992 had the lowest difference between the highest point scoring club and lowest point scoring club\n",
    "- 2005 has the largest difference between the highest point scoring club and lowest point scoring club"
   ]
  },
  {
   "cell_type": "code",
   "execution_count": null,
   "metadata": {},
   "outputs": [],
   "source": []
  }
 ],
 "metadata": {
  "kernelspec": {
   "display_name": "Python 3",
   "language": "python",
   "name": "python3"
  },
  "language_info": {
   "codemirror_mode": {
    "name": "ipython",
    "version": 3
   },
   "file_extension": ".py",
   "mimetype": "text/x-python",
   "name": "python",
   "nbconvert_exporter": "python",
   "pygments_lexer": "ipython3",
   "version": "3.7.0"
  }
 },
 "nbformat": 4,
 "nbformat_minor": 2
}
